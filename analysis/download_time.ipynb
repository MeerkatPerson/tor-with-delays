{
 "cells": [
  {
   "cell_type": "code",
   "execution_count": 1,
   "metadata": {},
   "outputs": [],
   "source": [
    "import tornettools_util\n",
    "import tornettools_plot\n",
    "import subprocess"
   ]
  },
  {
   "cell_type": "code",
   "execution_count": 3,
   "metadata": {},
   "outputs": [],
   "source": [
    "# args for tornettools parse; here using defaults\n",
    "\n",
    "converge_time = 1200\n",
    "run_time = -1\n",
    "\n",
    "# parse performance stats only after the network has reached steady state\n",
    "startts, stopts = converge_time, -1 if run_time < 0 else converge_time + run_time"
   ]
  },
  {
   "attachments": {},
   "cell_type": "markdown",
   "metadata": {},
   "source": [
    "## Extract download times (from the perspective of fileservers) from tgen data"
   ]
  },
  {
   "cell_type": "code",
   "execution_count": 4,
   "metadata": {},
   "outputs": [],
   "source": [
    "def get_download_time(data, startts, stopts, bytekey):\n",
    "    dt = {'ALL': []}\n",
    "\n",
    "    # download times can differ by microseconds in tgen.\n",
    "    # TODO: use\n",
    "    # resolution = 1.0 / 1000000.0\n",
    "    if 'data' in data:\n",
    "        for name in data['data']:\n",
    "            #if pattern.match(name) is None: \n",
    "            # pattern match not necessary to match since tgentools command already ensured only files matching pattern 'server[0-9]+exit\\.tgen\\.[0-9]+\\.stdout' are parsed\n",
    "            #    print('No match')\n",
    "            #    continue\n",
    "            db = data['data'][name]\n",
    "            ss = db['tgen']['stream_summary']\n",
    "            if bytekey in ss:\n",
    "                for header in ss[bytekey]:\n",
    "                    for secstr in ss[bytekey][header]:\n",
    "                        sec = int(secstr) - 946684800\n",
    "                        # print(f\"Sec: {sec}\")\n",
    "                        if sec >= startts and (stopts < 0 or sec < stopts):\n",
    "                            # print(\"sec criterion fulfilled\")\n",
    "                            #mydlcount += len(data['nodes'][name]['lastbyte'][header][secstr])\n",
    "                            for dl in ss[bytekey][header][secstr]:\n",
    "                                seconds = float(dl)\n",
    "                                #item = [seconds, resolution]\n",
    "                                item = seconds\n",
    "                                dt['ALL'].append(item)\n",
    "                                dt.setdefault(header, []).append(item)\n",
    "    return dt"
   ]
  },
  {
   "cell_type": "code",
   "execution_count": 5,
   "metadata": {},
   "outputs": [],
   "source": [
    "def extract_download_time(ind, variant, data, startts, stopts):\n",
    "    key = \"time_to_first_byte_recv\"\n",
    "    dt = get_download_time(data, startts, stopts, key)\n",
    "    outpath = f\"download_times/{ind}/{variant}.{key}.json\"\n",
    "    tornettools_util.dump_json_data(dt, outpath, compress=False)\n",
    "\n",
    "    key = \"time_to_last_byte_recv\"\n",
    "    dt = get_download_time(data, startts, stopts, key)\n",
    "    outpath = f\"download_times/{ind}/{variant}.{key}.json\"\n",
    "    tornettools_util.dump_json_data(dt, outpath, compress=False)"
   ]
  },
  {
   "cell_type": "code",
   "execution_count": 6,
   "metadata": {},
   "outputs": [],
   "source": [
    "for variant in [\"delay_neg_32\", \"delay_neg_32_zero\", \"tor_unchanged\"]:\n",
    "\n",
    "        for ind in [1012, 953, 1294, 599, 6938, 873]:\n",
    "\n",
    "                # Uncomment below command to decompress relevant results\n",
    "                # subprocess.run([f'unxz sim_res/{variant}/{ind}/tgen_servers. analysis.json.xz'], shell=True)\n",
    "\n",
    "                data = tornettools_util.load_json_data(f'sim_res/{variant}/{ind}/tgen_servers.analysis.json')\n",
    "\n",
    "                extract_download_time(ind, variant, data, startts, stopts)"
   ]
  },
  {
   "attachments": {},
   "cell_type": "markdown",
   "metadata": {},
   "source": [
    "## Plot full delay mechanism implementation vs. overhead only implementation as well as full delay mechanism implementation vs. unmodified Tor"
   ]
  },
  {
   "cell_type": "code",
   "execution_count": 2,
   "metadata": {},
   "outputs": [],
   "source": [
    "def plot_download_time(args, tornet_dbs, bytes_key, versions_compared):\n",
    "   \n",
    "    # cache the corresponding data in the 'data' keyword for __plot_cdf_figure\n",
    "    for tornet_db in tornet_dbs:\n",
    "        tornet_db['data'] = [tornet_db['dataset'][i][bytes_key] for i, _ in enumerate(tornet_db['dataset']) if bytes_key in tornet_db['dataset'][i]]\n",
    "    # for torperf_db in torperf_dbs:\n",
    "    #    torperf_db['data'] = [torperf_db['dataset']['download_times']#[bytes_key]]\n",
    "\n",
    "    # dbs_to_plot = torperf_dbs + tornet_dbs\n",
    "    dbs_to_plot = tornet_dbs\n",
    "\n",
    "    tornettools_plot.plot_cdf_figure(args, dbs_to_plot, f\"{versions_compared}.transfer_time_{bytes_key}\",\n",
    "                      yscale=\"taillog\",\n",
    "                      xlabel=f\"Transfer Time (s): Bytes={bytes_key}\")"
   ]
  },
  {
   "cell_type": "code",
   "execution_count": 3,
   "metadata": {},
   "outputs": [],
   "source": [
    "full = {\n",
    "    'dataset': [tornettools_util.load_json_data(f'download_times/{ind}/delay_neg_32.time_to_last_byte_recv.json') for ind in [599, 953, 1012, 1294, 6938, 873]], \n",
    "    'label': \"Full delay mechanism\",\n",
    "    'color': 'red',\n",
    "}\n",
    "\n",
    "overhead = {\n",
    "    'dataset': [tornettools_util.load_json_data(f'download_times/{ind}/delay_neg_32_zero.time_to_last_byte_recv.json') for ind in [599, 953, 1012, 1294, 6938, 873]], \n",
    "    'label': \"Overhead only\",\n",
    "    'color': 'yellow',\n",
    "}\n",
    "\n",
    "unmodified = {\n",
    "    'dataset': [tornettools_util.load_json_data(f'download_times/{ind}/tor_unchanged.time_to_last_byte_recv.json') for ind in [599, 953, 1012, 1294, 6938, 873]], \n",
    "    'label': \"Unmodified Tor\",\n",
    "    'color': 'yellow',\n",
    "}\n",
    "\n",
    "\n",
    "plot_download_time(None, [full, overhead], \"51200\", \"full_vs_overhead\")\n",
    "plot_download_time(None, [full, overhead], \"1048576\", \"full_vs_overhead\")\n",
    "plot_download_time(None, [full, overhead], \"5242880\", \"full_vs_overhead\")\n",
    "\n",
    "plot_download_time(None, [full, unmodified], \"51200\", \"full_vs_unmodified\")\n",
    "plot_download_time(None, [full, unmodified], \"1048576\", \"full_vs_unmodified\")\n",
    "plot_download_time(None, [full, unmodified], \"5242880\", \"full_vs_unmodified\")"
   ]
  },
  {
   "cell_type": "code",
   "execution_count": null,
   "metadata": {},
   "outputs": [],
   "source": []
  }
 ],
 "metadata": {
  "kernelspec": {
   "display_name": "tor-ana-venv",
   "language": "python",
   "name": "python3"
  },
  "language_info": {
   "codemirror_mode": {
    "name": "ipython",
    "version": 3
   },
   "file_extension": ".py",
   "mimetype": "text/x-python",
   "name": "python",
   "nbconvert_exporter": "python",
   "pygments_lexer": "ipython3",
   "version": "3.8.3"
  },
  "orig_nbformat": 4
 },
 "nbformat": 4,
 "nbformat_minor": 2
}
